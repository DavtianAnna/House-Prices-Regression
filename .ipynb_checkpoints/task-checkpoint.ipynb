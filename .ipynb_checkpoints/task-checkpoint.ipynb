{
 "cells": [
  {
   "cell_type": "code",
   "execution_count": 1,
   "id": "bfaa93b6-69b5-47ff-a83e-1ea76601c13b",
   "metadata": {},
   "outputs": [],
   "source": [
    "import numpy as np\n",
    "import pandas as pd\n",
    "import seaborn as sns\n",
    "import matplotlib.pyplot as plt\n",
    "import warnings\n",
    "warnings.filterwarnings(\"ignore\") "
   ]
  },
  {
   "cell_type": "code",
   "execution_count": 2,
   "id": "5951fc10-ee06-4f60-953f-58e3fb00125b",
   "metadata": {},
   "outputs": [],
   "source": [
    "df_train = pd.read_csv(\"train.csv\")\n",
    "df_test = pd.read_csv(\"test.csv\")"
   ]
  },
  {
   "cell_type": "code",
   "execution_count": 3,
   "id": "2de074f9-7d49-490c-b6ca-e006f2d04067",
   "metadata": {},
   "outputs": [
    {
     "name": "stdout",
     "output_type": "stream",
     "text": [
      "<class 'pandas.core.frame.DataFrame'>\n",
      "RangeIndex: 1460 entries, 0 to 1459\n",
      "Data columns (total 81 columns):\n",
      " #   Column         Non-Null Count  Dtype  \n",
      "---  ------         --------------  -----  \n",
      " 0   Id             1460 non-null   int64  \n",
      " 1   MSSubClass     1460 non-null   int64  \n",
      " 2   MSZoning       1460 non-null   object \n",
      " 3   LotFrontage    1201 non-null   float64\n",
      " 4   LotArea        1460 non-null   int64  \n",
      " 5   Street         1460 non-null   object \n",
      " 6   Alley          91 non-null     object \n",
      " 7   LotShape       1460 non-null   object \n",
      " 8   LandContour    1460 non-null   object \n",
      " 9   Utilities      1460 non-null   object \n",
      " 10  LotConfig      1460 non-null   object \n",
      " 11  LandSlope      1460 non-null   object \n",
      " 12  Neighborhood   1460 non-null   object \n",
      " 13  Condition1     1460 non-null   object \n",
      " 14  Condition2     1460 non-null   object \n",
      " 15  BldgType       1460 non-null   object \n",
      " 16  HouseStyle     1460 non-null   object \n",
      " 17  OverallQual    1460 non-null   int64  \n",
      " 18  OverallCond    1460 non-null   int64  \n",
      " 19  YearBuilt      1460 non-null   int64  \n",
      " 20  YearRemodAdd   1460 non-null   int64  \n",
      " 21  RoofStyle      1460 non-null   object \n",
      " 22  RoofMatl       1460 non-null   object \n",
      " 23  Exterior1st    1460 non-null   object \n",
      " 24  Exterior2nd    1460 non-null   object \n",
      " 25  MasVnrType     588 non-null    object \n",
      " 26  MasVnrArea     1452 non-null   float64\n",
      " 27  ExterQual      1460 non-null   object \n",
      " 28  ExterCond      1460 non-null   object \n",
      " 29  Foundation     1460 non-null   object \n",
      " 30  BsmtQual       1423 non-null   object \n",
      " 31  BsmtCond       1423 non-null   object \n",
      " 32  BsmtExposure   1422 non-null   object \n",
      " 33  BsmtFinType1   1423 non-null   object \n",
      " 34  BsmtFinSF1     1460 non-null   int64  \n",
      " 35  BsmtFinType2   1422 non-null   object \n",
      " 36  BsmtFinSF2     1460 non-null   int64  \n",
      " 37  BsmtUnfSF      1460 non-null   int64  \n",
      " 38  TotalBsmtSF    1460 non-null   int64  \n",
      " 39  Heating        1460 non-null   object \n",
      " 40  HeatingQC      1460 non-null   object \n",
      " 41  CentralAir     1460 non-null   object \n",
      " 42  Electrical     1459 non-null   object \n",
      " 43  1stFlrSF       1460 non-null   int64  \n",
      " 44  2ndFlrSF       1460 non-null   int64  \n",
      " 45  LowQualFinSF   1460 non-null   int64  \n",
      " 46  GrLivArea      1460 non-null   int64  \n",
      " 47  BsmtFullBath   1460 non-null   int64  \n",
      " 48  BsmtHalfBath   1460 non-null   int64  \n",
      " 49  FullBath       1460 non-null   int64  \n",
      " 50  HalfBath       1460 non-null   int64  \n",
      " 51  BedroomAbvGr   1460 non-null   int64  \n",
      " 52  KitchenAbvGr   1460 non-null   int64  \n",
      " 53  KitchenQual    1460 non-null   object \n",
      " 54  TotRmsAbvGrd   1460 non-null   int64  \n",
      " 55  Functional     1460 non-null   object \n",
      " 56  Fireplaces     1460 non-null   int64  \n",
      " 57  FireplaceQu    770 non-null    object \n",
      " 58  GarageType     1379 non-null   object \n",
      " 59  GarageYrBlt    1379 non-null   float64\n",
      " 60  GarageFinish   1379 non-null   object \n",
      " 61  GarageCars     1460 non-null   int64  \n",
      " 62  GarageArea     1460 non-null   int64  \n",
      " 63  GarageQual     1379 non-null   object \n",
      " 64  GarageCond     1379 non-null   object \n",
      " 65  PavedDrive     1460 non-null   object \n",
      " 66  WoodDeckSF     1460 non-null   int64  \n",
      " 67  OpenPorchSF    1460 non-null   int64  \n",
      " 68  EnclosedPorch  1460 non-null   int64  \n",
      " 69  3SsnPorch      1460 non-null   int64  \n",
      " 70  ScreenPorch    1460 non-null   int64  \n",
      " 71  PoolArea       1460 non-null   int64  \n",
      " 72  PoolQC         7 non-null      object \n",
      " 73  Fence          281 non-null    object \n",
      " 74  MiscFeature    54 non-null     object \n",
      " 75  MiscVal        1460 non-null   int64  \n",
      " 76  MoSold         1460 non-null   int64  \n",
      " 77  YrSold         1460 non-null   int64  \n",
      " 78  SaleType       1460 non-null   object \n",
      " 79  SaleCondition  1460 non-null   object \n",
      " 80  SalePrice      1460 non-null   int64  \n",
      "dtypes: float64(3), int64(35), object(43)\n",
      "memory usage: 924.0+ KB\n"
     ]
    }
   ],
   "source": [
    "df_train.info()"
   ]
  },
  {
   "cell_type": "code",
   "execution_count": 4,
   "id": "3b9861f2-f46a-4365-a7d1-b45c58bff91e",
   "metadata": {},
   "outputs": [
    {
     "data": {
      "text/plain": [
       "Exterior2nd      0.068540\n",
       "Exterior1st      0.068540\n",
       "BsmtUnfSF        0.068540\n",
       "BsmtFinSF2       0.068540\n",
       "BsmtFinSF1       0.068540\n",
       "GarageArea       0.068540\n",
       "KitchenQual      0.068540\n",
       "TotalBsmtSF      0.068540\n",
       "GarageCars       0.068540\n",
       "SaleType         0.068540\n",
       "BsmtHalfBath     0.137080\n",
       "BsmtFullBath     0.137080\n",
       "Utilities        0.137080\n",
       "Functional       0.137080\n",
       "MSZoning         0.274160\n",
       "MasVnrArea       1.028101\n",
       "BsmtFinType1     2.878684\n",
       "BsmtFinType2     2.878684\n",
       "BsmtQual         3.015764\n",
       "BsmtExposure     3.015764\n",
       "BsmtCond         3.084304\n",
       "GarageType       5.209047\n",
       "GarageFinish     5.346127\n",
       "GarageCond       5.346127\n",
       "GarageQual       5.346127\n",
       "GarageYrBlt      5.346127\n",
       "LotFrontage     15.558602\n",
       "FireplaceQu     50.034270\n",
       "MasVnrType      61.274846\n",
       "Fence           80.123372\n",
       "Alley           92.666210\n",
       "MiscFeature     96.504455\n",
       "dtype: float64"
      ]
     },
     "execution_count": 4,
     "metadata": {},
     "output_type": "execute_result"
    }
   ],
   "source": [
    "df_test.isna().sum()[df_test.isna().sum()!=0].sort_values()[:-1]*100/len(df_test)"
   ]
  },
  {
   "cell_type": "code",
   "execution_count": 5,
   "id": "dc0cc8ca-eee1-4d90-8477-9bc3f9069e95",
   "metadata": {},
   "outputs": [
    {
     "data": {
      "text/plain": [
       "Electrical       0.068493\n",
       "MasVnrArea       0.547945\n",
       "BsmtCond         2.534247\n",
       "BsmtFinType1     2.534247\n",
       "BsmtQual         2.534247\n",
       "BsmtExposure     2.602740\n",
       "BsmtFinType2     2.602740\n",
       "GarageType       5.547945\n",
       "GarageQual       5.547945\n",
       "GarageFinish     5.547945\n",
       "GarageCond       5.547945\n",
       "GarageYrBlt      5.547945\n",
       "LotFrontage     17.739726\n",
       "FireplaceQu     47.260274\n",
       "MasVnrType      59.726027\n",
       "Fence           80.753425\n",
       "Alley           93.767123\n",
       "MiscFeature     96.301370\n",
       "dtype: float64"
      ]
     },
     "execution_count": 5,
     "metadata": {},
     "output_type": "execute_result"
    }
   ],
   "source": [
    "df_train.isna().sum()[df_train.isna().sum()!=0].sort_values()[:-1]*100/len(df_train)"
   ]
  },
  {
   "cell_type": "code",
   "execution_count": 6,
   "id": "df766011-837a-4dd5-94a0-4a953113119d",
   "metadata": {},
   "outputs": [],
   "source": [
    "from sklearn.preprocessing import LabelEncoder\n",
    "label = LabelEncoder()"
   ]
  },
  {
   "cell_type": "code",
   "execution_count": 7,
   "id": "b657dd56-340b-4dd2-9052-90db1982bed4",
   "metadata": {},
   "outputs": [],
   "source": [
    "lst1 = ['MiscFeature', 'Alley', 'Fence', 'MasVnrType', 'FireplaceQu', 'PoolQC']\n",
    "for i in lst1:\n",
    "    df_train.drop(i, axis = 1, inplace = True)\n",
    "    df_test.drop(i, axis = 1, inplace = True)"
   ]
  },
  {
   "cell_type": "code",
   "execution_count": 8,
   "id": "df3d2991-5be3-41a2-a37a-58c5b8bc6dde",
   "metadata": {},
   "outputs": [],
   "source": [
    "df_train['LotFrontage'] = df_train['LotFrontage'].fillna(60.0)\n",
    "df_test['LotFrontage'] = df_test['LotFrontage'].fillna(60.0)"
   ]
  },
  {
   "cell_type": "code",
   "execution_count": 9,
   "id": "49850c43-18e9-436d-8109-0463489cb90e",
   "metadata": {},
   "outputs": [],
   "source": [
    "df_train['GarageYrBlt'] = df_train['GarageYrBlt'].fillna(2005.0)\n",
    "df_test['GarageYrBlt'] = df_test['GarageYrBlt'].fillna(2005.0)"
   ]
  },
  {
   "cell_type": "code",
   "execution_count": 10,
   "id": "c769357d-e166-47a6-b23b-0a8d287609d2",
   "metadata": {},
   "outputs": [],
   "source": [
    "df_train['GarageCond'] = df_train['GarageCond'].fillna('TA')\n",
    "df_test['GarageCond'] = df_test['GarageCond'].fillna('TA')"
   ]
  },
  {
   "cell_type": "code",
   "execution_count": 11,
   "id": "39169c5a-a1dc-4bab-a821-5768e9d30824",
   "metadata": {},
   "outputs": [],
   "source": [
    "df_train['GarageFinish'] = df_train['GarageFinish'].fillna(\n",
    "    np.random.choice(a=['Unf', 'RFn', 'Fin'], \n",
    "                     p=[0.43872371283538797, 0.3060188542422045, 0.25525743292240755])\n",
    ")\n",
    "df_test['GarageFinish'] = df_test['GarageFinish'].fillna(\n",
    "    np.random.choice(a=['Unf', 'RFn', 'Fin'], \n",
    "                     p=[0.43872371283538797, 0.3060188542422045, 0.25525743292240755])\n",
    ")"
   ]
  },
  {
   "cell_type": "code",
   "execution_count": 12,
   "id": "7acc0aca-17a1-4db5-a50f-6ec35a6c16fe",
   "metadata": {},
   "outputs": [],
   "source": [
    "df_train['GarageQual'] = df_train['GarageQual'].fillna('TA')\n",
    "df_test['GarageQual'] = df_test['GarageQual'].fillna('TA')"
   ]
  },
  {
   "cell_type": "code",
   "execution_count": 13,
   "id": "6dee1cf5-1a86-44ed-b0c6-426c3d1bafce",
   "metadata": {},
   "outputs": [],
   "source": [
    "df_train['GarageType'] = df_train['GarageType'].fillna('Attchd')\n",
    "df_test['GarageType'] = df_test['GarageType'].fillna('Attchd')"
   ]
  },
  {
   "cell_type": "code",
   "execution_count": 14,
   "id": "9e7c5ad7-2049-4456-85d2-5d853cf7bda8",
   "metadata": {},
   "outputs": [],
   "source": [
    "df_train['BsmtFinType2'] = df_train['BsmtFinType2'].fillna('Unf')\n",
    "df_test['BsmtFinType2'] = df_test['BsmtFinType2'].fillna('Unf')"
   ]
  },
  {
   "cell_type": "code",
   "execution_count": 15,
   "id": "a047cdf9-1351-4996-bcc3-4e293632e139",
   "metadata": {},
   "outputs": [],
   "source": [
    "df_train['BsmtExposure'] = df_train['BsmtExposure'].fillna(\n",
    "    np.random.choice(a=['No', 'Av', 'Gd', 'Mn'], \n",
    "                     p=[0.670182841068917, 0.15541490857946555, 0.09423347398030943, 0.08016877637130802])\n",
    ")\n",
    "df_test['BsmtExposure'] = df_test['BsmtExposure'].fillna(\n",
    "    np.random.choice(a=['No', 'Av', 'Gd', 'Mn'], \n",
    "                     p=[0.670182841068917, 0.15541490857946555, 0.09423347398030943, 0.08016877637130802])\n",
    ")"
   ]
  },
  {
   "cell_type": "code",
   "execution_count": 16,
   "id": "1ffe8bf3-0e71-4b07-9ba2-b801a8d8e831",
   "metadata": {},
   "outputs": [],
   "source": [
    "df_train['BsmtFinType1'] = df_train['BsmtFinType1'].fillna(\n",
    "    np.random.choice(a=['Unf', 'GLQ', 'ALQ', 'BLQ', 'Rec', 'LwQ'], \n",
    "                     p=[0.3021784961349262, 0.2937456078706957, 0.15460295151089248 , 0.10400562192550948, 0.09346451159522136, 0.05200281096275474])\n",
    ")\n",
    "df_test['BsmtFinType1'] = df_test['BsmtFinType1'].fillna(\n",
    "    np.random.choice(a=['Unf', 'GLQ', 'ALQ', 'BLQ', 'Rec', 'LwQ'], \n",
    "                     p=[0.3021784961349262, 0.2937456078706957, 0.15460295151089248 , 0.10400562192550948, 0.09346451159522136, 0.05200281096275474])\n",
    ")"
   ]
  },
  {
   "cell_type": "code",
   "execution_count": 17,
   "id": "1404b1e0-60ae-4404-818a-10f574b70e58",
   "metadata": {},
   "outputs": [],
   "source": [
    "df_train['BsmtCond'] = df_train['BsmtCond'].fillna('TA')\n",
    "df_test['BsmtCond'] = df_test['BsmtCond'].fillna('TA')"
   ]
  },
  {
   "cell_type": "code",
   "execution_count": 18,
   "id": "9d94a3f2-9e63-4617-b538-0f8bc49dab04",
   "metadata": {},
   "outputs": [],
   "source": [
    "df_train['BsmtQual'] = df_train['BsmtQual'].fillna(\n",
    "    np.random.choice(a=['TA', 'Gd', 'Ex', 'Fa'], \n",
    "                     p=[0.4560787069571328, 0.4342937456078707, 0.08503162333099086, 0.024595924104005622])\n",
    ")\n",
    "df_test['BsmtQual'] = df_test['BsmtQual'].fillna(\n",
    "    np.random.choice(a=['TA', 'Gd', 'Ex', 'Fa'], \n",
    "                     p=[0.4560787069571328, 0.4342937456078707, 0.08503162333099086, 0.024595924104005622])\n",
    ")"
   ]
  },
  {
   "cell_type": "code",
   "execution_count": 19,
   "id": "9ff77983-ec5c-41b9-9c50-9a183234aaa9",
   "metadata": {},
   "outputs": [],
   "source": [
    "df_train['MasVnrArea'] = df_train['MasVnrArea'].fillna(0.0)\n",
    "df_test['MasVnrArea'] = df_test['MasVnrArea'].fillna(0.0)"
   ]
  },
  {
   "cell_type": "code",
   "execution_count": 20,
   "id": "f22f176a-7b1b-41c1-89e4-45dc05782327",
   "metadata": {},
   "outputs": [],
   "source": [
    "df_train['Electrical'] = df_train['Electrical'].fillna(1334)\n",
    "df_test['Electrical'] = df_test['Electrical'].fillna(1334)"
   ]
  },
  {
   "cell_type": "code",
   "execution_count": 21,
   "id": "b358f35c-2a39-4c5f-81ca-e41ef3713707",
   "metadata": {},
   "outputs": [],
   "source": [
    "from sklearn.preprocessing import LabelEncoder"
   ]
  },
  {
   "cell_type": "code",
   "execution_count": 22,
   "id": "cb16ab90-5be1-492e-9ff3-271ae39b4716",
   "metadata": {},
   "outputs": [
    {
     "name": "stdout",
     "output_type": "stream",
     "text": [
      "MSZoning\n",
      "Utilities\n",
      "Exterior1st\n",
      "Exterior2nd\n",
      "KitchenQual\n",
      "Functional\n",
      "SaleType\n"
     ]
    }
   ],
   "source": [
    "for i in df_test.columns:\n",
    "    if df_train[i].dtype == object:\n",
    "        if len(set(df_test[i]).difference(set(df_train[i]))) > 0:\n",
    "            print(i)"
   ]
  },
  {
   "cell_type": "code",
   "execution_count": 23,
   "id": "a7ae88a8-7793-410a-a587-94b5149baa69",
   "metadata": {},
   "outputs": [
    {
     "data": {
      "text/plain": [
       "Functional\n",
       "Typ     1360\n",
       "Min2      34\n",
       "Min1      31\n",
       "Mod       15\n",
       "Maj1      14\n",
       "Maj2       5\n",
       "Sev        1\n",
       "Name: count, dtype: int64"
      ]
     },
     "execution_count": 23,
     "metadata": {},
     "output_type": "execute_result"
    }
   ],
   "source": [
    "df_train['Functional'].value_counts()"
   ]
  },
  {
   "cell_type": "code",
   "execution_count": 24,
   "id": "12bb107b-a5e3-4ed6-8907-4ca1b3bf3dd0",
   "metadata": {},
   "outputs": [
    {
     "data": {
      "text/plain": [
       "{nan}"
      ]
     },
     "execution_count": 24,
     "metadata": {},
     "output_type": "execute_result"
    }
   ],
   "source": [
    "set(df_test['MSZoning']).difference(set(df_train['MSZoning']))"
   ]
  },
  {
   "cell_type": "code",
   "execution_count": 25,
   "id": "2ee89441-a67b-47be-b75e-06b1f0f795bc",
   "metadata": {},
   "outputs": [],
   "source": [
    "df_test['MSZoning'] = df_test['MSZoning'].fillna('RL')"
   ]
  },
  {
   "cell_type": "code",
   "execution_count": 26,
   "id": "da47ae70-a3e2-42fd-b0be-c5d42eac81ab",
   "metadata": {},
   "outputs": [],
   "source": [
    "df_test['Utilities'] = df_test['Utilities'].fillna('AllPub')"
   ]
  },
  {
   "cell_type": "code",
   "execution_count": 27,
   "id": "53739b18-6d90-4a8a-b785-688253629141",
   "metadata": {},
   "outputs": [],
   "source": [
    "df_test['Exterior1st'] = df_test['Exterior1st'].fillna('VinylSd')"
   ]
  },
  {
   "cell_type": "code",
   "execution_count": 28,
   "id": "137dd079-988b-4cae-aac0-00dac89d01db",
   "metadata": {},
   "outputs": [],
   "source": [
    "df_test['Exterior2nd'] = df_test['Exterior2nd'].fillna('VinylSd')"
   ]
  },
  {
   "cell_type": "code",
   "execution_count": 29,
   "id": "a6336e57-b328-4751-b52b-142db0943510",
   "metadata": {},
   "outputs": [],
   "source": [
    "df_test['KitchenQual'] = df_test['KitchenQual'].fillna((\n",
    "    np.random.choice(a=['TA', 'Gd', 'Ex', 'Fa'], \n",
    "                     p=[0.5034246575342466, 0.40136986301369865, 0.0684931506849315, 0.02671232876712329])\n",
    "))"
   ]
  },
  {
   "cell_type": "code",
   "execution_count": 30,
   "id": "ad457e26-a680-4339-b3a7-c8b89ef94334",
   "metadata": {},
   "outputs": [],
   "source": [
    "df_test['Functional'] = df_test['Functional'].fillna('Typ')"
   ]
  },
  {
   "cell_type": "code",
   "execution_count": 31,
   "id": "9a376bbb-346e-485f-946d-efb686daf43f",
   "metadata": {},
   "outputs": [],
   "source": [
    "df_test['SaleType'] = df_test['SaleType'].fillna('WD')"
   ]
  },
  {
   "cell_type": "code",
   "execution_count": 32,
   "id": "6dc94b27-4ab6-418c-8e36-351ffdcafaf1",
   "metadata": {},
   "outputs": [],
   "source": [
    "df_test['KitchenQual'] = df_test['KitchenQual'].fillna((\n",
    "    np.random.choice(a=['TA', 'Gd', 'Ex', 'Fa'], \n",
    "                     p=[0.5034246575342466, 0.40136986301369865, 0.0684931506849315, 0.02671232876712329])\n",
    "))"
   ]
  },
  {
   "cell_type": "code",
   "execution_count": 33,
   "id": "fab00473-3fa8-4e80-9f55-e1f92475d051",
   "metadata": {},
   "outputs": [],
   "source": [
    "df_test['Functional'] = df_test['Functional'].fillna('Typ')"
   ]
  },
  {
   "cell_type": "code",
   "execution_count": 34,
   "id": "438c6267-68ce-4b88-9cd8-efef1ae4f120",
   "metadata": {},
   "outputs": [],
   "source": [
    "df_test['SaleType'] = df_test['SaleType'].fillna('WD')"
   ]
  },
  {
   "cell_type": "code",
   "execution_count": 35,
   "id": "7bccfadb-b146-47a7-bee7-e8c53618624e",
   "metadata": {},
   "outputs": [],
   "source": [
    "for col in df_test.columns:\n",
    "    if df_test[col].dtype == object:\n",
    "        unseen = set(df_test[col].dropna().unique()) - set(df_train[col].dropna().unique())"
   ]
  },
  {
   "cell_type": "code",
   "execution_count": 36,
   "id": "aa19fbb0-a7f6-4146-80bc-4c5da27f4951",
   "metadata": {},
   "outputs": [
    {
     "ename": "TypeError",
     "evalue": "Encoders require their input argument must be uniformly strings or numbers. Got ['int', 'str']",
     "output_type": "error",
     "traceback": [
      "\u001b[31m---------------------------------------------------------------------------\u001b[39m",
      "\u001b[31mTypeError\u001b[39m                                 Traceback (most recent call last)",
      "\u001b[36mFile \u001b[39m\u001b[32m~/AI/venv/lib/python3.12/site-packages/sklearn/utils/_encode.py:183\u001b[39m, in \u001b[36m_unique_python\u001b[39m\u001b[34m(values, return_inverse, return_counts)\u001b[39m\n\u001b[32m    181\u001b[39m uniques_set, missing_values = _extract_missing(uniques_set)\n\u001b[32m--> \u001b[39m\u001b[32m183\u001b[39m uniques = \u001b[38;5;28;43msorted\u001b[39;49m\u001b[43m(\u001b[49m\u001b[43muniques_set\u001b[49m\u001b[43m)\u001b[49m\n\u001b[32m    184\u001b[39m uniques.extend(missing_values.to_list())\n",
      "\u001b[31mTypeError\u001b[39m: '<' not supported between instances of 'int' and 'str'",
      "\nDuring handling of the above exception, another exception occurred:\n",
      "\u001b[31mTypeError\u001b[39m                                 Traceback (most recent call last)",
      "\u001b[36mCell\u001b[39m\u001b[36m \u001b[39m\u001b[32mIn[36]\u001b[39m\u001b[32m, line 4\u001b[39m\n\u001b[32m      2\u001b[39m \u001b[38;5;28;01mif\u001b[39;00m df_test[i].dtype == \u001b[38;5;28mobject\u001b[39m:\n\u001b[32m      3\u001b[39m     label = LabelEncoder()\n\u001b[32m----> \u001b[39m\u001b[32m4\u001b[39m     df_train[i] = \u001b[43mlabel\u001b[49m\u001b[43m.\u001b[49m\u001b[43mfit_transform\u001b[49m\u001b[43m(\u001b[49m\u001b[43mdf_train\u001b[49m\u001b[43m[\u001b[49m\u001b[43mi\u001b[49m\u001b[43m]\u001b[49m\u001b[43m)\u001b[49m\n\u001b[32m      5\u001b[39m     df_test[i] = label.transform(df_test[i])\n",
      "\u001b[36mFile \u001b[39m\u001b[32m~/AI/venv/lib/python3.12/site-packages/sklearn/preprocessing/_label.py:111\u001b[39m, in \u001b[36mLabelEncoder.fit_transform\u001b[39m\u001b[34m(self, y)\u001b[39m\n\u001b[32m     98\u001b[39m \u001b[38;5;250m\u001b[39m\u001b[33;03m\"\"\"Fit label encoder and return encoded labels.\u001b[39;00m\n\u001b[32m     99\u001b[39m \n\u001b[32m    100\u001b[39m \u001b[33;03mParameters\u001b[39;00m\n\u001b[32m   (...)\u001b[39m\u001b[32m    108\u001b[39m \u001b[33;03m    Encoded labels.\u001b[39;00m\n\u001b[32m    109\u001b[39m \u001b[33;03m\"\"\"\u001b[39;00m\n\u001b[32m    110\u001b[39m y = column_or_1d(y, warn=\u001b[38;5;28;01mTrue\u001b[39;00m)\n\u001b[32m--> \u001b[39m\u001b[32m111\u001b[39m \u001b[38;5;28mself\u001b[39m.classes_, y = \u001b[43m_unique\u001b[49m\u001b[43m(\u001b[49m\u001b[43my\u001b[49m\u001b[43m,\u001b[49m\u001b[43m \u001b[49m\u001b[43mreturn_inverse\u001b[49m\u001b[43m=\u001b[49m\u001b[38;5;28;43;01mTrue\u001b[39;49;00m\u001b[43m)\u001b[49m\n\u001b[32m    112\u001b[39m \u001b[38;5;28;01mreturn\u001b[39;00m y\n",
      "\u001b[36mFile \u001b[39m\u001b[32m~/AI/venv/lib/python3.12/site-packages/sklearn/utils/_encode.py:52\u001b[39m, in \u001b[36m_unique\u001b[39m\u001b[34m(values, return_inverse, return_counts)\u001b[39m\n\u001b[32m     21\u001b[39m \u001b[38;5;250m\u001b[39m\u001b[33;03m\"\"\"Helper function to find unique values with support for python objects.\u001b[39;00m\n\u001b[32m     22\u001b[39m \n\u001b[32m     23\u001b[39m \u001b[33;03mUses pure python method for object dtype, and numpy method for\u001b[39;00m\n\u001b[32m   (...)\u001b[39m\u001b[32m     49\u001b[39m \u001b[33;03m    array. Only provided if `return_counts` is True.\u001b[39;00m\n\u001b[32m     50\u001b[39m \u001b[33;03m\"\"\"\u001b[39;00m\n\u001b[32m     51\u001b[39m \u001b[38;5;28;01mif\u001b[39;00m values.dtype == \u001b[38;5;28mobject\u001b[39m:\n\u001b[32m---> \u001b[39m\u001b[32m52\u001b[39m     \u001b[38;5;28;01mreturn\u001b[39;00m \u001b[43m_unique_python\u001b[49m\u001b[43m(\u001b[49m\n\u001b[32m     53\u001b[39m \u001b[43m        \u001b[49m\u001b[43mvalues\u001b[49m\u001b[43m,\u001b[49m\u001b[43m \u001b[49m\u001b[43mreturn_inverse\u001b[49m\u001b[43m=\u001b[49m\u001b[43mreturn_inverse\u001b[49m\u001b[43m,\u001b[49m\u001b[43m \u001b[49m\u001b[43mreturn_counts\u001b[49m\u001b[43m=\u001b[49m\u001b[43mreturn_counts\u001b[49m\n\u001b[32m     54\u001b[39m \u001b[43m    \u001b[49m\u001b[43m)\u001b[49m\n\u001b[32m     55\u001b[39m \u001b[38;5;66;03m# numerical\u001b[39;00m\n\u001b[32m     56\u001b[39m \u001b[38;5;28;01mreturn\u001b[39;00m _unique_np(\n\u001b[32m     57\u001b[39m     values, return_inverse=return_inverse, return_counts=return_counts\n\u001b[32m     58\u001b[39m )\n",
      "\u001b[36mFile \u001b[39m\u001b[32m~/AI/venv/lib/python3.12/site-packages/sklearn/utils/_encode.py:188\u001b[39m, in \u001b[36m_unique_python\u001b[39m\u001b[34m(values, return_inverse, return_counts)\u001b[39m\n\u001b[32m    186\u001b[39m \u001b[38;5;28;01mexcept\u001b[39;00m \u001b[38;5;167;01mTypeError\u001b[39;00m:\n\u001b[32m    187\u001b[39m     types = \u001b[38;5;28msorted\u001b[39m(t.\u001b[34m__qualname__\u001b[39m \u001b[38;5;28;01mfor\u001b[39;00m t \u001b[38;5;129;01min\u001b[39;00m \u001b[38;5;28mset\u001b[39m(\u001b[38;5;28mtype\u001b[39m(v) \u001b[38;5;28;01mfor\u001b[39;00m v \u001b[38;5;129;01min\u001b[39;00m values))\n\u001b[32m--> \u001b[39m\u001b[32m188\u001b[39m     \u001b[38;5;28;01mraise\u001b[39;00m \u001b[38;5;167;01mTypeError\u001b[39;00m(\n\u001b[32m    189\u001b[39m         \u001b[33m\"\u001b[39m\u001b[33mEncoders require their input argument must be uniformly \u001b[39m\u001b[33m\"\u001b[39m\n\u001b[32m    190\u001b[39m         \u001b[33mf\u001b[39m\u001b[33m\"\u001b[39m\u001b[33mstrings or numbers. Got \u001b[39m\u001b[38;5;132;01m{\u001b[39;00mtypes\u001b[38;5;132;01m}\u001b[39;00m\u001b[33m\"\u001b[39m\n\u001b[32m    191\u001b[39m     )\n\u001b[32m    192\u001b[39m ret = (uniques,)\n\u001b[32m    194\u001b[39m \u001b[38;5;28;01mif\u001b[39;00m return_inverse:\n",
      "\u001b[31mTypeError\u001b[39m: Encoders require their input argument must be uniformly strings or numbers. Got ['int', 'str']"
     ]
    }
   ],
   "source": [
    "for i in df_test.columns:\n",
    "    if df_test[i].dtype == object:\n",
    "        label = LabelEncoder()\n",
    "        df_train[i] = label.fit_transform(df_train[i])\n",
    "        df_test[i] = label.transform(df_test[i])"
   ]
  },
  {
   "cell_type": "code",
   "execution_count": null,
   "id": "b7dbd1a4-35fb-4613-b969-86a296127b93",
   "metadata": {},
   "outputs": [],
   "source": []
  },
  {
   "cell_type": "code",
   "execution_count": null,
   "id": "30153730-59c8-4be5-8ea1-9c4a6a0fc1a5",
   "metadata": {},
   "outputs": [],
   "source": []
  },
  {
   "cell_type": "code",
   "execution_count": null,
   "id": "72506923-328b-4c7f-a037-022b83821451",
   "metadata": {},
   "outputs": [],
   "source": [
    "from sklearn.metrics import mean_squared_error"
   ]
  },
  {
   "cell_type": "code",
   "execution_count": 37,
   "id": "db4813e8-8e63-4a0a-8a50-52b28ee17450",
   "metadata": {},
   "outputs": [],
   "source": [
    "X = df_train.drop('SalePrice', axis = 1)\n",
    "y = df_train['SalePrice']"
   ]
  },
  {
   "cell_type": "code",
   "execution_count": 38,
   "id": "42372c99-cccd-4b97-943f-3aa3809dd450",
   "metadata": {},
   "outputs": [],
   "source": [
    "from sklearn.model_selection import train_test_split"
   ]
  },
  {
   "cell_type": "code",
   "execution_count": 39,
   "id": "2231c6c1-6f9c-43cb-b2ae-4c7263b5388a",
   "metadata": {},
   "outputs": [],
   "source": [
    "X_train, X_test, y_train, y_test = train_test_split(X, y, test_size=0.2, random_state=42)"
   ]
  },
  {
   "cell_type": "code",
   "execution_count": 40,
   "id": "adf2a9e9-5765-4616-96b4-d2decbd027da",
   "metadata": {},
   "outputs": [],
   "source": [
    "from sklearn.linear_model import LinearRegression, SGDRegressor"
   ]
  },
  {
   "cell_type": "code",
   "execution_count": 41,
   "id": "615fb615-1e27-4ec5-b8d9-054c9dbdd8b7",
   "metadata": {},
   "outputs": [],
   "source": [
    "model = LinearRegression()"
   ]
  },
  {
   "cell_type": "code",
   "execution_count": 42,
   "id": "95c891f7-74ba-4bb9-8158-841ef99f3bf6",
   "metadata": {},
   "outputs": [
    {
     "ename": "ValueError",
     "evalue": "could not convert string to float: 'Pave'",
     "output_type": "error",
     "traceback": [
      "\u001b[31m---------------------------------------------------------------------------\u001b[39m",
      "\u001b[31mValueError\u001b[39m                                Traceback (most recent call last)",
      "\u001b[32m/tmp/ipykernel_53006/180087699.py\u001b[39m in \u001b[36m?\u001b[39m\u001b[34m()\u001b[39m\n\u001b[32m----> \u001b[39m\u001b[32m1\u001b[39m model.fit(X_train, y_train)\n",
      "\u001b[32m~/AI/venv/lib/python3.12/site-packages/sklearn/base.py\u001b[39m in \u001b[36m?\u001b[39m\u001b[34m(estimator, *args, **kwargs)\u001b[39m\n\u001b[32m   1359\u001b[39m                 skip_parameter_validation=(\n\u001b[32m   1360\u001b[39m                     prefer_skip_nested_validation \u001b[38;5;28;01mor\u001b[39;00m global_skip_validation\n\u001b[32m   1361\u001b[39m                 )\n\u001b[32m   1362\u001b[39m             ):\n\u001b[32m-> \u001b[39m\u001b[32m1363\u001b[39m                 \u001b[38;5;28;01mreturn\u001b[39;00m fit_method(estimator, *args, **kwargs)\n",
      "\u001b[32m~/AI/venv/lib/python3.12/site-packages/sklearn/linear_model/_base.py\u001b[39m in \u001b[36m?\u001b[39m\u001b[34m(self, X, y, sample_weight)\u001b[39m\n\u001b[32m    614\u001b[39m         n_jobs_ = self.n_jobs\n\u001b[32m    615\u001b[39m \n\u001b[32m    616\u001b[39m         accept_sparse = \u001b[38;5;28;01mFalse\u001b[39;00m \u001b[38;5;28;01mif\u001b[39;00m self.positive \u001b[38;5;28;01melse\u001b[39;00m [\u001b[33m\"csr\"\u001b[39m, \u001b[33m\"csc\"\u001b[39m, \u001b[33m\"coo\"\u001b[39m]\n\u001b[32m    617\u001b[39m \n\u001b[32m--> \u001b[39m\u001b[32m618\u001b[39m         X, y = validate_data(\n\u001b[32m    619\u001b[39m             self,\n\u001b[32m    620\u001b[39m             X,\n\u001b[32m    621\u001b[39m             y,\n",
      "\u001b[32m~/AI/venv/lib/python3.12/site-packages/sklearn/utils/validation.py\u001b[39m in \u001b[36m?\u001b[39m\u001b[34m(_estimator, X, y, reset, validate_separately, skip_check_array, **check_params)\u001b[39m\n\u001b[32m   2967\u001b[39m             \u001b[38;5;28;01mif\u001b[39;00m \u001b[33m\"estimator\"\u001b[39m \u001b[38;5;28;01mnot\u001b[39;00m \u001b[38;5;28;01min\u001b[39;00m check_y_params:\n\u001b[32m   2968\u001b[39m                 check_y_params = {**default_check_params, **check_y_params}\n\u001b[32m   2969\u001b[39m             y = check_array(y, input_name=\u001b[33m\"y\"\u001b[39m, **check_y_params)\n\u001b[32m   2970\u001b[39m         \u001b[38;5;28;01melse\u001b[39;00m:\n\u001b[32m-> \u001b[39m\u001b[32m2971\u001b[39m             X, y = check_X_y(X, y, **check_params)\n\u001b[32m   2972\u001b[39m         out = X, y\n\u001b[32m   2973\u001b[39m \n\u001b[32m   2974\u001b[39m     \u001b[38;5;28;01mif\u001b[39;00m \u001b[38;5;28;01mnot\u001b[39;00m no_val_X \u001b[38;5;28;01mand\u001b[39;00m check_params.get(\u001b[33m\"ensure_2d\"\u001b[39m, \u001b[38;5;28;01mTrue\u001b[39;00m):\n",
      "\u001b[32m~/AI/venv/lib/python3.12/site-packages/sklearn/utils/validation.py\u001b[39m in \u001b[36m?\u001b[39m\u001b[34m(X, y, accept_sparse, accept_large_sparse, dtype, order, copy, force_writeable, force_all_finite, ensure_all_finite, ensure_2d, allow_nd, multi_output, ensure_min_samples, ensure_min_features, y_numeric, estimator)\u001b[39m\n\u001b[32m   1364\u001b[39m         )\n\u001b[32m   1365\u001b[39m \n\u001b[32m   1366\u001b[39m     ensure_all_finite = _deprecate_force_all_finite(force_all_finite, ensure_all_finite)\n\u001b[32m   1367\u001b[39m \n\u001b[32m-> \u001b[39m\u001b[32m1368\u001b[39m     X = check_array(\n\u001b[32m   1369\u001b[39m         X,\n\u001b[32m   1370\u001b[39m         accept_sparse=accept_sparse,\n\u001b[32m   1371\u001b[39m         accept_large_sparse=accept_large_sparse,\n",
      "\u001b[32m~/AI/venv/lib/python3.12/site-packages/sklearn/utils/validation.py\u001b[39m in \u001b[36m?\u001b[39m\u001b[34m(array, accept_sparse, accept_large_sparse, dtype, order, copy, force_writeable, force_all_finite, ensure_all_finite, ensure_non_negative, ensure_2d, allow_nd, ensure_min_samples, ensure_min_features, estimator, input_name)\u001b[39m\n\u001b[32m   1050\u001b[39m                         )\n\u001b[32m   1051\u001b[39m                     array = xp.astype(array, dtype, copy=\u001b[38;5;28;01mFalse\u001b[39;00m)\n\u001b[32m   1052\u001b[39m                 \u001b[38;5;28;01melse\u001b[39;00m:\n\u001b[32m   1053\u001b[39m                     array = _asarray_with_order(array, order=order, dtype=dtype, xp=xp)\n\u001b[32m-> \u001b[39m\u001b[32m1054\u001b[39m             \u001b[38;5;28;01mexcept\u001b[39;00m ComplexWarning \u001b[38;5;28;01mas\u001b[39;00m complex_warning:\n\u001b[32m   1055\u001b[39m                 raise ValueError(\n\u001b[32m   1056\u001b[39m                     \u001b[33m\"Complex data not supported\\n{}\\n\"\u001b[39m.format(array)\n\u001b[32m   1057\u001b[39m                 ) \u001b[38;5;28;01mfrom\u001b[39;00m complex_warning\n",
      "\u001b[32m~/AI/venv/lib/python3.12/site-packages/sklearn/utils/_array_api.py\u001b[39m in \u001b[36m?\u001b[39m\u001b[34m(array, dtype, order, copy, xp, device)\u001b[39m\n\u001b[32m    753\u001b[39m         \u001b[38;5;66;03m# Use NumPy API to support order\u001b[39;00m\n\u001b[32m    754\u001b[39m         \u001b[38;5;28;01mif\u001b[39;00m copy \u001b[38;5;28;01mis\u001b[39;00m \u001b[38;5;28;01mTrue\u001b[39;00m:\n\u001b[32m    755\u001b[39m             array = numpy.array(array, order=order, dtype=dtype)\n\u001b[32m    756\u001b[39m         \u001b[38;5;28;01melse\u001b[39;00m:\n\u001b[32m--> \u001b[39m\u001b[32m757\u001b[39m             array = numpy.asarray(array, order=order, dtype=dtype)\n\u001b[32m    758\u001b[39m \n\u001b[32m    759\u001b[39m         \u001b[38;5;66;03m# At this point array is a NumPy ndarray. We convert it to an array\u001b[39;00m\n\u001b[32m    760\u001b[39m         \u001b[38;5;66;03m# container that is consistent with the input's namespace.\u001b[39;00m\n",
      "\u001b[32m~/AI/venv/lib/python3.12/site-packages/pandas/core/generic.py\u001b[39m in \u001b[36m?\u001b[39m\u001b[34m(self, dtype, copy)\u001b[39m\n\u001b[32m   2149\u001b[39m     def __array__(\n\u001b[32m   2150\u001b[39m         self, dtype: npt.DTypeLike | \u001b[38;5;28;01mNone\u001b[39;00m = \u001b[38;5;28;01mNone\u001b[39;00m, copy: bool_t | \u001b[38;5;28;01mNone\u001b[39;00m = \u001b[38;5;28;01mNone\u001b[39;00m\n\u001b[32m   2151\u001b[39m     ) -> np.ndarray:\n\u001b[32m   2152\u001b[39m         values = self._values\n\u001b[32m-> \u001b[39m\u001b[32m2153\u001b[39m         arr = np.asarray(values, dtype=dtype)\n\u001b[32m   2154\u001b[39m         if (\n\u001b[32m   2155\u001b[39m             astype_is_view(values.dtype, arr.dtype)\n\u001b[32m   2156\u001b[39m             \u001b[38;5;28;01mand\u001b[39;00m using_copy_on_write()\n",
      "\u001b[31mValueError\u001b[39m: could not convert string to float: 'Pave'"
     ]
    }
   ],
   "source": [
    "model.fit(X_train, y_train)"
   ]
  },
  {
   "cell_type": "code",
   "execution_count": null,
   "id": "46efab61-0023-400f-b3c0-3347134ad6cf",
   "metadata": {},
   "outputs": [],
   "source": [
    "y_pred = model.predict(X_test)"
   ]
  },
  {
   "cell_type": "code",
   "execution_count": 43,
   "id": "49c827a5-61b2-4db8-8955-5d7aa848c837",
   "metadata": {},
   "outputs": [
    {
     "ename": "NameError",
     "evalue": "name 'mean_squared_error' is not defined",
     "output_type": "error",
     "traceback": [
      "\u001b[31m---------------------------------------------------------------------------\u001b[39m",
      "\u001b[31mNameError\u001b[39m                                 Traceback (most recent call last)",
      "\u001b[36mCell\u001b[39m\u001b[36m \u001b[39m\u001b[32mIn[43]\u001b[39m\u001b[32m, line 1\u001b[39m\n\u001b[32m----> \u001b[39m\u001b[32m1\u001b[39m np.sqrt(\u001b[43mmean_squared_error\u001b[49m(y_test,y_pred))\n",
      "\u001b[31mNameError\u001b[39m: name 'mean_squared_error' is not defined"
     ]
    }
   ],
   "source": [
    "np.sqrt(mean_squared_error(y_test,y_pred))"
   ]
  },
  {
   "cell_type": "code",
   "execution_count": 44,
   "id": "cd1709df-7022-4e0d-9ba2-e6b6a6c294f6",
   "metadata": {},
   "outputs": [
    {
     "ename": "ValueError",
     "evalue": "could not convert string to float: 'RH'",
     "output_type": "error",
     "traceback": [
      "\u001b[31m---------------------------------------------------------------------------\u001b[39m",
      "\u001b[31mValueError\u001b[39m                                Traceback (most recent call last)",
      "\u001b[32m/tmp/ipykernel_53006/3253300933.py\u001b[39m in \u001b[36m?\u001b[39m\u001b[34m()\u001b[39m\n\u001b[32m----> \u001b[39m\u001b[32m1\u001b[39m y_pred = model.predict(df_test)\n",
      "\u001b[32m~/AI/venv/lib/python3.12/site-packages/sklearn/linear_model/_base.py\u001b[39m in \u001b[36m?\u001b[39m\u001b[34m(self, X)\u001b[39m\n\u001b[32m    294\u001b[39m         -------\n\u001b[32m    295\u001b[39m         C : array, shape (n_samples,)\n\u001b[32m    296\u001b[39m             Returns predicted values.\n\u001b[32m    297\u001b[39m         \"\"\"\n\u001b[32m--> \u001b[39m\u001b[32m298\u001b[39m         \u001b[38;5;28;01mreturn\u001b[39;00m self._decision_function(X)\n",
      "\u001b[32m~/AI/venv/lib/python3.12/site-packages/sklearn/linear_model/_base.py\u001b[39m in \u001b[36m?\u001b[39m\u001b[34m(self, X)\u001b[39m\n\u001b[32m    274\u001b[39m     \u001b[38;5;28;01mdef\u001b[39;00m _decision_function(self, X):\n\u001b[32m    275\u001b[39m         check_is_fitted(self)\n\u001b[32m    276\u001b[39m \n\u001b[32m--> \u001b[39m\u001b[32m277\u001b[39m         X = validate_data(self, X, accept_sparse=[\u001b[33m\"csr\"\u001b[39m, \u001b[33m\"csc\"\u001b[39m, \u001b[33m\"coo\"\u001b[39m], reset=\u001b[38;5;28;01mFalse\u001b[39;00m)\n\u001b[32m    278\u001b[39m         coef_ = self.coef_\n\u001b[32m    279\u001b[39m         \u001b[38;5;28;01mif\u001b[39;00m coef_.ndim == \u001b[32m1\u001b[39m:\n\u001b[32m    280\u001b[39m             \u001b[38;5;28;01mreturn\u001b[39;00m X @ coef_ + self.intercept_\n",
      "\u001b[32m~/AI/venv/lib/python3.12/site-packages/sklearn/utils/validation.py\u001b[39m in \u001b[36m?\u001b[39m\u001b[34m(_estimator, X, y, reset, validate_separately, skip_check_array, **check_params)\u001b[39m\n\u001b[32m   2950\u001b[39m             out = y\n\u001b[32m   2951\u001b[39m         \u001b[38;5;28;01melse\u001b[39;00m:\n\u001b[32m   2952\u001b[39m             out = X, y\n\u001b[32m   2953\u001b[39m     \u001b[38;5;28;01melif\u001b[39;00m \u001b[38;5;28;01mnot\u001b[39;00m no_val_X \u001b[38;5;28;01mand\u001b[39;00m no_val_y:\n\u001b[32m-> \u001b[39m\u001b[32m2954\u001b[39m         out = check_array(X, input_name=\u001b[33m\"X\"\u001b[39m, **check_params)\n\u001b[32m   2955\u001b[39m     \u001b[38;5;28;01melif\u001b[39;00m no_val_X \u001b[38;5;28;01mand\u001b[39;00m \u001b[38;5;28;01mnot\u001b[39;00m no_val_y:\n\u001b[32m   2956\u001b[39m         out = _check_y(y, **check_params)\n\u001b[32m   2957\u001b[39m     \u001b[38;5;28;01melse\u001b[39;00m:\n",
      "\u001b[32m~/AI/venv/lib/python3.12/site-packages/sklearn/utils/validation.py\u001b[39m in \u001b[36m?\u001b[39m\u001b[34m(array, accept_sparse, accept_large_sparse, dtype, order, copy, force_writeable, force_all_finite, ensure_all_finite, ensure_non_negative, ensure_2d, allow_nd, ensure_min_samples, ensure_min_features, estimator, input_name)\u001b[39m\n\u001b[32m   1050\u001b[39m                         )\n\u001b[32m   1051\u001b[39m                     array = xp.astype(array, dtype, copy=\u001b[38;5;28;01mFalse\u001b[39;00m)\n\u001b[32m   1052\u001b[39m                 \u001b[38;5;28;01melse\u001b[39;00m:\n\u001b[32m   1053\u001b[39m                     array = _asarray_with_order(array, order=order, dtype=dtype, xp=xp)\n\u001b[32m-> \u001b[39m\u001b[32m1054\u001b[39m             \u001b[38;5;28;01mexcept\u001b[39;00m ComplexWarning \u001b[38;5;28;01mas\u001b[39;00m complex_warning:\n\u001b[32m   1055\u001b[39m                 raise ValueError(\n\u001b[32m   1056\u001b[39m                     \u001b[33m\"Complex data not supported\\n{}\\n\"\u001b[39m.format(array)\n\u001b[32m   1057\u001b[39m                 ) \u001b[38;5;28;01mfrom\u001b[39;00m complex_warning\n",
      "\u001b[32m~/AI/venv/lib/python3.12/site-packages/sklearn/utils/_array_api.py\u001b[39m in \u001b[36m?\u001b[39m\u001b[34m(array, dtype, order, copy, xp, device)\u001b[39m\n\u001b[32m    753\u001b[39m         \u001b[38;5;66;03m# Use NumPy API to support order\u001b[39;00m\n\u001b[32m    754\u001b[39m         \u001b[38;5;28;01mif\u001b[39;00m copy \u001b[38;5;28;01mis\u001b[39;00m \u001b[38;5;28;01mTrue\u001b[39;00m:\n\u001b[32m    755\u001b[39m             array = numpy.array(array, order=order, dtype=dtype)\n\u001b[32m    756\u001b[39m         \u001b[38;5;28;01melse\u001b[39;00m:\n\u001b[32m--> \u001b[39m\u001b[32m757\u001b[39m             array = numpy.asarray(array, order=order, dtype=dtype)\n\u001b[32m    758\u001b[39m \n\u001b[32m    759\u001b[39m         \u001b[38;5;66;03m# At this point array is a NumPy ndarray. We convert it to an array\u001b[39;00m\n\u001b[32m    760\u001b[39m         \u001b[38;5;66;03m# container that is consistent with the input's namespace.\u001b[39;00m\n",
      "\u001b[32m~/AI/venv/lib/python3.12/site-packages/pandas/core/generic.py\u001b[39m in \u001b[36m?\u001b[39m\u001b[34m(self, dtype, copy)\u001b[39m\n\u001b[32m   2149\u001b[39m     def __array__(\n\u001b[32m   2150\u001b[39m         self, dtype: npt.DTypeLike | \u001b[38;5;28;01mNone\u001b[39;00m = \u001b[38;5;28;01mNone\u001b[39;00m, copy: bool_t | \u001b[38;5;28;01mNone\u001b[39;00m = \u001b[38;5;28;01mNone\u001b[39;00m\n\u001b[32m   2151\u001b[39m     ) -> np.ndarray:\n\u001b[32m   2152\u001b[39m         values = self._values\n\u001b[32m-> \u001b[39m\u001b[32m2153\u001b[39m         arr = np.asarray(values, dtype=dtype)\n\u001b[32m   2154\u001b[39m         if (\n\u001b[32m   2155\u001b[39m             astype_is_view(values.dtype, arr.dtype)\n\u001b[32m   2156\u001b[39m             \u001b[38;5;28;01mand\u001b[39;00m using_copy_on_write()\n",
      "\u001b[31mValueError\u001b[39m: could not convert string to float: 'RH'"
     ]
    }
   ],
   "source": [
    "y_pred = model.predict(df_test)"
   ]
  },
  {
   "cell_type": "code",
   "execution_count": 45,
   "id": "ace00e20-4c58-4877-ad83-96cf11d98929",
   "metadata": {},
   "outputs": [],
   "source": [
    "df_sub = pd.read_csv('sample_submission.csv')"
   ]
  },
  {
   "cell_type": "code",
   "execution_count": 46,
   "id": "cec61d29-51e7-4483-b3c9-9592453ea0dc",
   "metadata": {},
   "outputs": [
    {
     "ename": "NameError",
     "evalue": "name 'y_pred' is not defined",
     "output_type": "error",
     "traceback": [
      "\u001b[31m---------------------------------------------------------------------------\u001b[39m",
      "\u001b[31mNameError\u001b[39m                                 Traceback (most recent call last)",
      "\u001b[36mCell\u001b[39m\u001b[36m \u001b[39m\u001b[32mIn[46]\u001b[39m\u001b[32m, line 1\u001b[39m\n\u001b[32m----> \u001b[39m\u001b[32m1\u001b[39m df_sub[\u001b[33m'\u001b[39m\u001b[33mSalePrice\u001b[39m\u001b[33m'\u001b[39m] = \u001b[43my_pred\u001b[49m\n",
      "\u001b[31mNameError\u001b[39m: name 'y_pred' is not defined"
     ]
    }
   ],
   "source": [
    "df_sub['SalePrice'] = y_pred"
   ]
  },
  {
   "cell_type": "code",
   "execution_count": 47,
   "id": "4e51b360-8210-49dd-be39-ad0d6e053c27",
   "metadata": {},
   "outputs": [],
   "source": [
    "df_sub.to_csv('Care_price_Sale_Price.csv',  index = False, index_label=False)"
   ]
  },
  {
   "cell_type": "code",
   "execution_count": null,
   "id": "ebe42475-4f6b-417c-b480-60936a59c870",
   "metadata": {},
   "outputs": [],
   "source": []
  },
  {
   "cell_type": "code",
   "execution_count": null,
   "id": "d0d2db4f-fa54-4451-9aa2-abb1341d18fa",
   "metadata": {},
   "outputs": [],
   "source": []
  },
  {
   "cell_type": "code",
   "execution_count": null,
   "id": "597cae0a-2bcf-4b5e-a140-e64b59d95a7d",
   "metadata": {},
   "outputs": [],
   "source": []
  },
  {
   "cell_type": "code",
   "execution_count": null,
   "id": "ed1ce1c9-2447-4891-b0a0-895830c22f7f",
   "metadata": {},
   "outputs": [],
   "source": []
  },
  {
   "cell_type": "code",
   "execution_count": null,
   "id": "fbecd58a-adcd-42da-908b-e7f6f7d6f73b",
   "metadata": {},
   "outputs": [],
   "source": []
  }
 ],
 "metadata": {
  "kernelspec": {
   "display_name": "Python 3 (ipykernel)",
   "language": "python",
   "name": "python3"
  },
  "language_info": {
   "codemirror_mode": {
    "name": "ipython",
    "version": 3
   },
   "file_extension": ".py",
   "mimetype": "text/x-python",
   "name": "python",
   "nbconvert_exporter": "python",
   "pygments_lexer": "ipython3",
   "version": "3.12.3"
  }
 },
 "nbformat": 4,
 "nbformat_minor": 5
}
